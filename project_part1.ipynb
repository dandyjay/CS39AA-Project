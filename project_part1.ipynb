{
  "cells": [
    {
      "cell_type": "markdown",
      "metadata": {
        "id": "WP4PtaJIw2kC"
      },
      "source": [
        "# Project Part 1\n",
        "\n",
        "[![Kaggle](https://kaggle.com/static/images/open-in-kaggle.svg)](https://kaggle.com/kernels/welcome?src=https://github.com/sgeinitz/CS39AA-project/blob/main/project_part1.ipynb)\n",
        "\n",
        "[![Open In Colab](https://colab.research.google.com/assets/colab-badge.svg)](https://colab.research.google.com/github/sgeinitz/CS39AA-project/blob/main/project_part1.ipynb)\n",
        "\n",
        "This notebook is intended to serve as a template to complete Part 1 of the projects. Feel free to modify this notebook as needed, but be sure to have the two main parts, a) a introductory proposal section describing what it is your doing to do and where the dataset originates, and b) an exploratory analysis section that has the histograms, charts, tables, etc. that are the output from your exploratory analysis.\n",
        "\n",
        "__Note you will want to remove the text above, and in the markdown cells below, and replace it with your own text describing the dataset, task, exploratory steps, etc.__"
      ]
    },
    {
      "cell_type": "markdown",
      "metadata": {
        "id": "hFxhpp6Gw2kF"
      },
      "source": [
        "## 1. Introduction/Background\n",
        "\n",
        "_In this section you will describe (in English) the dataset you are using as well as the NLP problem it deals with. For example, if you are planning to use the Twitter Natural Disaster dataset, then you will describe what the data and where it came as if you were explaining it to someone who does not know anything about the data. You will then describe how this is a __text classification__ problem, and that the labels are binary (e.g. a tweet either refers to a genuine/real natural disaster, or it does not)._\n",
        "\n",
        "_Overall, this should be about a paragraph of text that could be read by someone outside of our class, and they could still understand what it is your project is doing._\n",
        "\n",
        "_Note that you should __not__ simply write one sentence stating, \"This project is base on the Kaggle competition: Predicting Natural Disasters with Twitter._\"\n",
        "\n",
        "_If you are still looking for datasets to use, consider the following resources to explore text datasets._\n",
        "\n",
        "* https://huggingface.co/datasets/\n",
        "* https://www.kaggle.com/datasets\n",
        "* https://data-flair.training/blogs/machine-learning-datasets/\n",
        "* https://pytorch.org/text/stable/datasets.html\n",
        "* https://github.com/niderhoff/nlp-datasets\n",
        "* https://medium.com/@ODSC/20-open-datasets-for-natural-language-processing-538fbfaf8e38\n",
        "* https://imerit.net/blog/25-best-nlp-datasets-for-machine-learning-all-pbm/\n",
        "\n",
        "\n",
        "_If you instead are planning to do a more research-oriented or applied type of project, then describe what it is that you plan to do._\n",
        "\n",
        "_If it is research, then what do you want to understand/explain better?_\n",
        "\n",
        "_If it is applied, then what it is you plan to build?_"
      ]
    },
    {
      "cell_type": "markdown",
      "metadata": {
        "id": "wTgR0Hhww2kF"
      },
      "source": [
        "## 2. Exploratory Data Analysis\n",
        "\n",
        "_You will now load the dataset and carry out some exploratory data analysis steps to better understand what text data looks like. See the examples from class on 10/. The following links provide some good resources of exploratory analyses of text data with Python._\n",
        "\n",
        "\n",
        "* https://neptune.ai/blog/exploratory-data-analysis-natural-language-processing-tools\n",
        "* https://regenerativetoday.com/exploratory-data-analysis-of-text-data-including-visualization-and-sentiment-analysis/\n",
        "* https://medium.com/swlh/text-summarization-guide-exploratory-data-analysis-on-text-data-4e22ce2dd6ad  \n",
        "* https://www.kdnuggets.com/2019/05/complete-exploratory-data-analysis-visualization-text-data.html  \n"
      ]
    },
    {
      "cell_type": "code",
      "execution_count": null,
      "metadata": {
        "id": "qaUBGaOow2kG"
      },
      "outputs": [],
      "source": [
        "# import all of the python modules/packages you'll need here\n",
        "import pandas as pd\n",
        "# ..."
      ]
    },
    {
      "cell_type": "markdown",
      "source": [
        "https://www.kaggle.com/datasets/carlosgdcj/genius-song-lyrics-with-language-information\n",
        "\n",
        "This dataset originates from the website 'Genius' where lyrics to songs are posted as well as community-submitted explanations to the meanings behind those lyrics. The dataset has song titles, the full string of lyrics, and a few other columns. However, the column of note this dataset has is a `tag` field which stores which genre each song belongs to. (i.e. rap, pop, rock, etc.)\n",
        "\n",
        "For my project, I would like to train an NLP AI to try to find a connection between lyrics and genre. I'd like to train it to classify the lyrics of a song into which genre they belong to. There is not necessarily any innate connection between these two concepts, which is why I especially want to see how the AI tackles this problem. Perhaps it will be able to find some connection that I am unable to see.\n",
        "\n",
        "This dataset has a few problems that need to be addressed before using it for this project. Firstly, this dataset has lyrics from all different languages. For the purpose of this project, I'm going to limit the scope to just English songs. There may be a deeper correlation that can be made by using all languages, but for readability I chose to limit it to English. This can be easily done by filtering out songs with the `language` tag restricting it to only 'en'.\n",
        "\n",
        "Additionally, the lyrics of a song on Genius are split up by verses and choruses and other musical notations separated from the lyrics with brackets. For example, a song can have the line `[Verse 1: Drake]` that follows before a verse sung by Drake. For the purposes of this project, those lines will remain in the lyrics. They aren't technically lyrics, but the AI can notice patterns with artists and verse/chorus/introduction setups to help classify which genre the song is in.\n"
      ],
      "metadata": {
        "id": "EwOLsodWxBtY"
      }
    },
    {
      "cell_type": "code",
      "execution_count": null,
      "metadata": {
        "id": "FF6033tRw2kH"
      },
      "outputs": [],
      "source": []
    }
  ],
  "metadata": {
    "kernelspec": {
      "display_name": "Python 3.9.12 ('base')",
      "language": "python",
      "name": "python3"
    },
    "language_info": {
      "codemirror_mode": {
        "name": "ipython",
        "version": 3
      },
      "file_extension": ".py",
      "mimetype": "text/x-python",
      "name": "python",
      "nbconvert_exporter": "python",
      "pygments_lexer": "ipython3",
      "version": "3.9.13"
    },
    "orig_nbformat": 4,
    "vscode": {
      "interpreter": {
        "hash": "bb3398f4b21c7b026dd5874af3f954bf25f1e8ff81e25d82a94abcbbaacf760b"
      }
    },
    "colab": {
      "provenance": []
    }
  },
  "nbformat": 4,
  "nbformat_minor": 0
}