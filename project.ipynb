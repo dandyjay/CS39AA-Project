{
 "cells": [
  {
   "cell_type": "code",
   "execution_count": 1,
   "id": "8065105a",
   "metadata": {
    "_cell_guid": "b1076dfc-b9ad-4769-8c92-a6c4dae69d19",
    "_uuid": "8f2839f25d086af736a60e9eeb907d3b93b6e0e5",
    "execution": {
     "iopub.execute_input": "2023-11-09T20:50:30.791435Z",
     "iopub.status.busy": "2023-11-09T20:50:30.790998Z",
     "iopub.status.idle": "2023-11-09T20:50:31.812223Z",
     "shell.execute_reply": "2023-11-09T20:50:31.810998Z"
    },
    "papermill": {
     "duration": 1.030405,
     "end_time": "2023-11-09T20:50:31.815125",
     "exception": false,
     "start_time": "2023-11-09T20:50:30.784720",
     "status": "completed"
    },
    "tags": []
   },
   "outputs": [
    {
     "name": "stdout",
     "output_type": "stream",
     "text": [
      "/kaggle/input/genius-song-lyrics-with-language-information/song_lyrics.csv\n"
     ]
    }
   ],
   "source": [
    "# This Python 3 environment comes with many helpful analytics libraries installed\n",
    "# It is defined by the kaggle/python Docker image: https://github.com/kaggle/docker-python\n",
    "# For example, here's several helpful packages to load\n",
    "\n",
    "import numpy as np # linear algebra\n",
    "import pandas as pd # data processing, CSV file I/O (e.g. pd.read_csv)\n",
    "\n",
    "# Input data files are available in the read-only \"../input/\" directory\n",
    "# For example, running this (by clicking run or pressing Shift+Enter) will list all files under the input directory\n",
    "\n",
    "import os\n",
    "for dirname, _, filenames in os.walk('/kaggle/input'):\n",
    "    for filename in filenames:\n",
    "        print(os.path.join(dirname, filename))\n",
    "\n",
    "# You can write up to 20GB to the current directory (/kaggle/working/) that gets preserved as output when you create a version using \"Save & Run All\" \n",
    "# You can also write temporary files to /kaggle/temp/, but they won't be saved outside of the current session"
   ]
  },
  {
   "cell_type": "code",
   "execution_count": 2,
   "id": "8f5dd100",
   "metadata": {
    "execution": {
     "iopub.execute_input": "2023-11-09T20:50:31.828597Z",
     "iopub.status.busy": "2023-11-09T20:50:31.827604Z",
     "iopub.status.idle": "2023-11-09T20:54:57.071110Z",
     "shell.execute_reply": "2023-11-09T20:54:57.068403Z"
    },
    "papermill": {
     "duration": 265.255484,
     "end_time": "2023-11-09T20:54:57.076957",
     "exception": false,
     "start_time": "2023-11-09T20:50:31.821473",
     "status": "completed"
    },
    "tags": []
   },
   "outputs": [],
   "source": [
    "lyric_database = pd.read_csv(\"/kaggle/input/genius-song-lyrics-with-language-information/song_lyrics.csv\")"
   ]
  },
  {
   "cell_type": "markdown",
   "id": "de148f7b",
   "metadata": {
    "papermill": {
     "duration": 0.004172,
     "end_time": "2023-11-09T20:54:57.087979",
     "exception": false,
     "start_time": "2023-11-09T20:54:57.083807",
     "status": "completed"
    },
    "tags": []
   },
   "source": [
    "https://www.kaggle.com/datasets/carlosgdcj/genius-song-lyrics-with-language-information\n",
    "\n",
    "This dataset originates from the website 'Genius' where lyrics to songs are posted as well as community-submitted explanations to the meanings behind those lyrics. The dataset has song titles, the full string of lyrics, and a few other columns. However, the column of note this dataset has is a `tag` field which stores which genre each song belongs to. (i.e. rap, pop, rock, etc.)\n",
    "\n",
    "For my project, I would like to train an NLP AI to try to find a connection between lyrics and genre. I'd like to train it to classify the lyrics of a song into which genre they belong to. There is not necessarily any innate connection between these two concepts, which is why I especially want to see how the AI tackles this problem. Perhaps it will be able to find some connection that I am unable to see.\n",
    "\n",
    "This dataset has a few problems that need to be addressed before using it for this project. Firstly, this dataset has lyrics from all different languages. For the purpose of this project, I'm going to limit the scope to just English songs. There may be a deeper correlation that can be made by using all languages, but for readability I chose to limit it to English. This can be easily done by filtering out songs using the `language` column restricting it to only 'en'.\n",
    "\n",
    "Additionally, the lyrics of a song on Genius are split up by verses and choruses and other musical notations separated from the lyrics with brackets. For example, a song can have the line `[Verse 1: Drake]`that follows before a verse sung by Drake. For the purposes of this project, those lines will remain in the lyrics. They aren't technically lyrics, but the AI can notice patterns with artists and verse/chorus/introduction setups to help classify which genre the song is in.\n",
    "\n",
    "Finally, Genius allows users to upload lyrics for things that aren't songs as well such as scripts or poems. These are all tagged as 'misc,' but some songs are also tagged as misc. For the sake of simplicity, I will be culling all lyrics tagged as misc from the database even if they are songs."
   ]
  },
  {
   "cell_type": "code",
   "execution_count": 3,
   "id": "686f9b47",
   "metadata": {
    "execution": {
     "iopub.execute_input": "2023-11-09T20:54:57.100513Z",
     "iopub.status.busy": "2023-11-09T20:54:57.099085Z",
     "iopub.status.idle": "2023-11-09T20:55:06.423908Z",
     "shell.execute_reply": "2023-11-09T20:55:06.422152Z"
    },
    "papermill": {
     "duration": 9.335038,
     "end_time": "2023-11-09T20:55:06.427290",
     "exception": false,
     "start_time": "2023-11-09T20:54:57.092252",
     "status": "completed"
    },
    "tags": []
   },
   "outputs": [],
   "source": [
    "db = (\n",
    "    lyric_database\n",
    "    .loc[lyric_database[\"language\"] == \"en\"]\n",
    "    .loc[lyric_database[\"tag\"] != \"misc\"]\n",
    "    .loc[lyric_database[\"tag\"] != \"\"]\n",
    "    .loc[lyric_database[\"tag\"] != None]\n",
    "    .loc[lyric_database[\"lyrics\"] != None]\n",
    "    .loc[lyric_database[\"lyrics\"] != \"\"]\n",
    ")"
   ]
  },
  {
   "cell_type": "markdown",
   "id": "472f677c",
   "metadata": {
    "papermill": {
     "duration": 0.003854,
     "end_time": "2023-11-09T20:55:06.435517",
     "exception": false,
     "start_time": "2023-11-09T20:55:06.431663",
     "status": "completed"
    },
    "tags": []
   },
   "source": [
    "This dataset has several columns that can be used for all sorts of implementation but for the sake of this project only the 'lyrics', `tag`, `title` and `id` columns are of interest to us.\n",
    "\n",
    "`id` is how we iterate through each song, and `title` is how we display the name of the song found by the id.\n",
    "\n",
    "`lyrics` is our text input and `tag` is our classification output. We need these to train the AI.\n",
    "\n",
    "The `language` column is extraneous now that we have filtered out any songs that are not in english."
   ]
  },
  {
   "cell_type": "code",
   "execution_count": 4,
   "id": "d717e3a0",
   "metadata": {
    "execution": {
     "iopub.execute_input": "2023-11-09T20:55:06.445870Z",
     "iopub.status.busy": "2023-11-09T20:55:06.445488Z",
     "iopub.status.idle": "2023-11-09T20:55:06.919017Z",
     "shell.execute_reply": "2023-11-09T20:55:06.917770Z"
    },
    "papermill": {
     "duration": 0.482418,
     "end_time": "2023-11-09T20:55:06.922085",
     "exception": false,
     "start_time": "2023-11-09T20:55:06.439667",
     "status": "completed"
    },
    "tags": []
   },
   "outputs": [],
   "source": [
    "columns_of_interest = ['id', 'title','artist', 'lyrics', 'tag']\n",
    "db = db[columns_of_interest]"
   ]
  },
  {
   "cell_type": "code",
   "execution_count": 5,
   "id": "b1e350d6",
   "metadata": {
    "execution": {
     "iopub.execute_input": "2023-11-09T20:55:06.932485Z",
     "iopub.status.busy": "2023-11-09T20:55:06.932086Z",
     "iopub.status.idle": "2023-11-09T20:55:06.947115Z",
     "shell.execute_reply": "2023-11-09T20:55:06.945508Z"
    },
    "papermill": {
     "duration": 0.024377,
     "end_time": "2023-11-09T20:55:06.950765",
     "exception": false,
     "start_time": "2023-11-09T20:55:06.926388",
     "status": "completed"
    },
    "tags": []
   },
   "outputs": [
    {
     "name": "stdout",
     "output_type": "stream",
     "text": [
      "31601\n",
      "\n",
      "Take This Ride\n",
      "\n",
      "Miilkbone\n",
      "\n",
      "[Intro 2X: Miilkbone]\n",
      "Come and take this rii-ide, baby\n",
      "And let love get lii-ive, baby\n",
      "I'll even let you dri-ive, baby\n",
      "If I can park insi-ide\n",
      "\n",
      "[Miilkbone]\n",
      "I pulled up, picked her up like 6 o'clock\n",
      "She came out the house with a body like I'm Sir Mix-A-Lot\n",
      "Got the fly car, fly girl, my masterpiece\n",
      "Dressed in caramel, skin color tone match the seats\n",
      "Only difference she's got a fast release, I tell her\n",
      "My car's like my love and you can help me keep it greased\n",
      "Hit the park on route 69, the hard way\n",
      "We might crash, c'mon now girl I got triple weight\n",
      "You know me better than that, my tires never been flat\n",
      "Turned on the radio, Mariah made her lay the seat back\n",
      "Let me teach you how to drive my stick, slide my shit\n",
      "Like ba-ba-bump in traffic, I wanted her to match it\n",
      "\n",
      "[Chorus: Miilkbone] + (female)\n",
      "Come and take this rii-ide, baby\n",
      "And let love get lii-ive, baby\n",
      "I'll even let you dri-ive, baby\n",
      "If I can park insi-ide\n",
      "(Come and take this ride, baby)\n",
      "(Make me wet inside, baby)\n",
      "(Show me you can drive, baby)\n",
      "Every night girl I wanna stick shift you\n",
      "[Miilkbone]\n",
      "Without the birds and bees, crack the window for a breeze\n",
      "My engine block's hot and I'm leakin my antifreeze\n",
      "Task undress, I feel like I'm blessed, car's a mess\n",
      "Sex in the stretch, gas pedal prints, dent ya headrest\n",
      "I'm vexed, her legs split, every intersection\n",
      "I'll never steer you wrong, we got airbag protection\n",
      "Maps for directions and you be like damn\n",
      "You drive excellent, so cool you pump fuel-injection\n",
      "The rest of her ass passed the bad gas inspection\n",
      "Spaced out from milk jets and car collection\n",
      "My finger wheels rollin down the back street creepin\n",
      "Can't hang, by the first block you'll be sleepin\n",
      "\n",
      "[Chorus]\n",
      "\n",
      "[Miilkbone]\n",
      "Tonight is all about havin me park her in the car\n",
      "Start at the bar, drive off, it's off with the bra\n",
      "Opened the hood, check her emission before after and during\n",
      "But - your only fill her with fluids to keep her engine purrin\n",
      "What the fuck, it's like if you gettin raped, knuckle up\n",
      "You sexin, you don't feel safe then buckle up - dummy\n",
      "Showed her, pulled over, revvin my motor thighs\n",
      "On my shoulder ride by, the sex super like sober\n",
      "Squirt squirt I be doin work work\n",
      "Takin off her shirt flirt, kick up dirt, make the highway hurt\n",
      "Got the handle that can stop the car, knock you off\n",
      "If you don't want me I can't wait to drop you off\n",
      "We in my Lexus - yeah, we in the Beemer - uh huh\n",
      "We in Benz, we in Cadillac - c'mon\n",
      "We in a sport truck, we in a hooptie - yeah that's what I'm talkin about\n",
      "A BMW or in back of the Ac' c'mon\n",
      "\n",
      "[Chorus] - 2X\n",
      "\n",
      "rap\n",
      "\n"
     ]
    }
   ],
   "source": [
    "#code to find a song by its ID\n",
    "for item in (db.loc[db[\"id\"] == 31601].values):\n",
    "    for x in item:\n",
    "        print(f\"{x}\\n\")\n",
    "        "
   ]
  },
  {
   "cell_type": "code",
   "execution_count": 6,
   "id": "089c93a6",
   "metadata": {
    "execution": {
     "iopub.execute_input": "2023-11-09T20:55:06.961832Z",
     "iopub.status.busy": "2023-11-09T20:55:06.960921Z",
     "iopub.status.idle": "2023-11-09T20:55:08.501087Z",
     "shell.execute_reply": "2023-11-09T20:55:08.499323Z"
    },
    "papermill": {
     "duration": 1.549103,
     "end_time": "2023-11-09T20:55:08.504325",
     "exception": false,
     "start_time": "2023-11-09T20:55:06.955222",
     "status": "completed"
    },
    "tags": []
   },
   "outputs": [
    {
     "name": "stdout",
     "output_type": "stream",
     "text": [
      "5402526\n",
      "\n",
      "FAMILY VAN\n",
      "\n",
      "cleopatrick\n",
      "\n",
      "[Verse 1]\n",
      "Caught you biting my shit when\n",
      "I was mixing macchiatos for these old men\n",
      "Wondering what it's worth, wondering who I am\n",
      "You  feeling gutty with your pad and pen\n",
      "I used to call work early\n",
      "Up late tryna isolate what hurt me\n",
      "I was hoping that the poetry would give me peace\n",
      "Do you heard my heat, you observe this beat? Yeah\n",
      "Look you can't just diss and come tell man sorry Yeah\n",
      "Can't hear me talk and go tell my story, yeah\n",
      "That's word from Aubrey, dog\n",
      "\n",
      "[Chorus]\n",
      "I know you only fucked with me 'cause I'm alone\n",
      "'Cause I'm alone, yeah\n",
      "But in the end you'll always know you're hollow, hollow\n",
      "Yeah, yeah\n",
      "\n",
      "[Verse 2]\n",
      "All you rock dummies double take when I talk\n",
      "Play it safe, got no heart\n",
      "Fumble takes, got no sauce\n",
      "Double back, double cross\n",
      "Never break, take the loss\n",
      "Can't keep pace, label boss\n",
      "Label shelf, label toss\n",
      "I just\n",
      "[Chorus]\n",
      "I know you only fucked with me 'cause I'm alone\n",
      "'Cause I'm alone, yeah\n",
      "But in the end you'll always know you're hollow, hollow\n",
      "And you're unknown, yeah, yeah, yeah\n",
      "\n",
      "[Bridge]\n",
      "A lesson I learned from a melancholy girlfriend\n",
      "Contrasts my passions with these fucking has-beens, yeah\n",
      "She said, \"The surprise of disguise only works in unmasking\"\n",
      "\n",
      "[Outro]\n",
      "Now all you rock dummies double take when I talk\n",
      "Play it safe, got no heart\n",
      "Fumble takes, got no sauce\n",
      "Double back, double cross\n",
      "Never break, take the loss\n",
      "Can't keep pace, label boss\n",
      "Label shelf, label toss\n",
      "I just, fuck\n",
      "Can't believe what I have seen, man\n",
      "Yeah, they're tuggin' at my feet saying\n",
      "Pushing twenty-three is a real big bummer\n",
      "When these old motherfuckers trying so hard to pull you\n",
      "\n",
      "rock\n",
      "\n"
     ]
    }
   ],
   "source": [
    "#code to find a song by its title and artist\n",
    "for item in (db.loc[db[\"title\"] == \"FAMILY VAN\"].loc[db[\"artist\"] == \"cleopatrick\"].values):\n",
    "    for x in item:\n",
    "        print(f\"{x}\\n\")"
   ]
  },
  {
   "cell_type": "code",
   "execution_count": 7,
   "id": "6daa8df7",
   "metadata": {
    "execution": {
     "iopub.execute_input": "2023-11-09T20:55:08.517327Z",
     "iopub.status.busy": "2023-11-09T20:55:08.516782Z",
     "iopub.status.idle": "2023-11-09T20:55:09.137263Z",
     "shell.execute_reply": "2023-11-09T20:55:09.135340Z"
    },
    "papermill": {
     "duration": 0.631269,
     "end_time": "2023-11-09T20:55:09.140602",
     "exception": false,
     "start_time": "2023-11-09T20:55:08.509333",
     "status": "completed"
    },
    "tags": []
   },
   "outputs": [
    {
     "data": {
      "text/html": [
       "<div>\n",
       "<style scoped>\n",
       "    .dataframe tbody tr th:only-of-type {\n",
       "        vertical-align: middle;\n",
       "    }\n",
       "\n",
       "    .dataframe tbody tr th {\n",
       "        vertical-align: top;\n",
       "    }\n",
       "\n",
       "    .dataframe thead th {\n",
       "        text-align: right;\n",
       "    }\n",
       "</style>\n",
       "<table border=\"1\" class=\"dataframe\">\n",
       "  <thead>\n",
       "    <tr style=\"text-align: right;\">\n",
       "      <th></th>\n",
       "      <th>id</th>\n",
       "      <th>title</th>\n",
       "      <th>artist</th>\n",
       "      <th>lyrics</th>\n",
       "      <th>tag</th>\n",
       "    </tr>\n",
       "  </thead>\n",
       "  <tbody>\n",
       "    <tr>\n",
       "      <th>0</th>\n",
       "      <td>1</td>\n",
       "      <td>Killa Cam</td>\n",
       "      <td>Cam'ron</td>\n",
       "      <td>[Chorus: Opera Steve &amp; Cam'ron]\\nKilla Cam, Ki...</td>\n",
       "      <td>rap</td>\n",
       "    </tr>\n",
       "    <tr>\n",
       "      <th>1</th>\n",
       "      <td>3</td>\n",
       "      <td>Can I Live</td>\n",
       "      <td>JAY-Z</td>\n",
       "      <td>[Produced by Irv Gotti]\\n\\n[Intro]\\nYeah, hah,...</td>\n",
       "      <td>rap</td>\n",
       "    </tr>\n",
       "    <tr>\n",
       "      <th>2</th>\n",
       "      <td>4</td>\n",
       "      <td>Forgive Me Father</td>\n",
       "      <td>Fabolous</td>\n",
       "      <td>Maybe cause I'm eatin\\nAnd these bastards fien...</td>\n",
       "      <td>rap</td>\n",
       "    </tr>\n",
       "    <tr>\n",
       "      <th>3</th>\n",
       "      <td>5</td>\n",
       "      <td>Down and Out</td>\n",
       "      <td>Cam'ron</td>\n",
       "      <td>[Produced by Kanye West and Brian Miller]\\n\\n[...</td>\n",
       "      <td>rap</td>\n",
       "    </tr>\n",
       "    <tr>\n",
       "      <th>4</th>\n",
       "      <td>6</td>\n",
       "      <td>Fly In</td>\n",
       "      <td>Lil Wayne</td>\n",
       "      <td>[Intro]\\nSo they ask me\\n\"Young boy\\nWhat you ...</td>\n",
       "      <td>rap</td>\n",
       "    </tr>\n",
       "    <tr>\n",
       "      <th>...</th>\n",
       "      <td>...</td>\n",
       "      <td>...</td>\n",
       "      <td>...</td>\n",
       "      <td>...</td>\n",
       "      <td>...</td>\n",
       "    </tr>\n",
       "    <tr>\n",
       "      <th>5134847</th>\n",
       "      <td>7882838</td>\n",
       "      <td>Everything Is Alright Now</td>\n",
       "      <td>Chuck Bernard</td>\n",
       "      <td>Everything is alright now\\nOh yes, baby\\nEvery...</td>\n",
       "      <td>pop</td>\n",
       "    </tr>\n",
       "    <tr>\n",
       "      <th>5134849</th>\n",
       "      <td>7882840</td>\n",
       "      <td>White Lies</td>\n",
       "      <td>ElementD</td>\n",
       "      <td>[Verse 1]\\nHalf truth and half you\\nDidn't we ...</td>\n",
       "      <td>pop</td>\n",
       "    </tr>\n",
       "    <tr>\n",
       "      <th>5134851</th>\n",
       "      <td>7882842</td>\n",
       "      <td>Ocean</td>\n",
       "      <td>Effemar</td>\n",
       "      <td>[Verse 1]\\nDance for me now\\nKeeping yourself ...</td>\n",
       "      <td>pop</td>\n",
       "    </tr>\n",
       "    <tr>\n",
       "      <th>5134853</th>\n",
       "      <td>7882845</td>\n",
       "      <td>Raise Our Hands</td>\n",
       "      <td>Culture Code, Pag &amp; Mylo</td>\n",
       "      <td>[Verse 1]\\nHere our purpose feels alive\\nWe ar...</td>\n",
       "      <td>pop</td>\n",
       "    </tr>\n",
       "    <tr>\n",
       "      <th>5134855</th>\n",
       "      <td>7882848</td>\n",
       "      <td>New Number</td>\n",
       "      <td>Alana Springsteen</td>\n",
       "      <td>[Verse 1]\\nYou need a new number, one that ain...</td>\n",
       "      <td>country</td>\n",
       "    </tr>\n",
       "  </tbody>\n",
       "</table>\n",
       "<p>3233212 rows × 5 columns</p>\n",
       "</div>"
      ],
      "text/plain": [
       "              id                      title                    artist  \\\n",
       "0              1                  Killa Cam                   Cam'ron   \n",
       "1              3                 Can I Live                     JAY-Z   \n",
       "2              4          Forgive Me Father                  Fabolous   \n",
       "3              5               Down and Out                   Cam'ron   \n",
       "4              6                     Fly In                 Lil Wayne   \n",
       "...          ...                        ...                       ...   \n",
       "5134847  7882838  Everything Is Alright Now             Chuck Bernard   \n",
       "5134849  7882840                 White Lies                  ElementD   \n",
       "5134851  7882842                      Ocean                   Effemar   \n",
       "5134853  7882845            Raise Our Hands  Culture Code, Pag & Mylo   \n",
       "5134855  7882848                 New Number         Alana Springsteen   \n",
       "\n",
       "                                                    lyrics      tag  \n",
       "0        [Chorus: Opera Steve & Cam'ron]\\nKilla Cam, Ki...      rap  \n",
       "1        [Produced by Irv Gotti]\\n\\n[Intro]\\nYeah, hah,...      rap  \n",
       "2        Maybe cause I'm eatin\\nAnd these bastards fien...      rap  \n",
       "3        [Produced by Kanye West and Brian Miller]\\n\\n[...      rap  \n",
       "4        [Intro]\\nSo they ask me\\n\"Young boy\\nWhat you ...      rap  \n",
       "...                                                    ...      ...  \n",
       "5134847  Everything is alright now\\nOh yes, baby\\nEvery...      pop  \n",
       "5134849  [Verse 1]\\nHalf truth and half you\\nDidn't we ...      pop  \n",
       "5134851  [Verse 1]\\nDance for me now\\nKeeping yourself ...      pop  \n",
       "5134853  [Verse 1]\\nHere our purpose feels alive\\nWe ar...      pop  \n",
       "5134855  [Verse 1]\\nYou need a new number, one that ain...  country  \n",
       "\n",
       "[3233212 rows x 5 columns]"
      ]
     },
     "execution_count": 7,
     "metadata": {},
     "output_type": "execute_result"
    }
   ],
   "source": [
    "db.sort_values(by=\"id\")\n",
    "#the IDs go all the way up to 7.8 million despite only having 5.1 million songs in the database"
   ]
  }
 ],
 "metadata": {
  "kernelspec": {
   "display_name": "Python 3",
   "language": "python",
   "name": "python3"
  },
  "language_info": {
   "codemirror_mode": {
    "name": "ipython",
    "version": 3
   },
   "file_extension": ".py",
   "mimetype": "text/x-python",
   "name": "python",
   "nbconvert_exporter": "python",
   "pygments_lexer": "ipython3",
   "version": "3.10.12"
  },
  "papermill": {
   "default_parameters": {},
   "duration": 287.435673,
   "end_time": "2023-11-09T20:55:13.537862",
   "environment_variables": {},
   "exception": null,
   "input_path": "__notebook__.ipynb",
   "output_path": "__notebook__.ipynb",
   "parameters": {},
   "start_time": "2023-11-09T20:50:26.102189",
   "version": "2.4.0"
  }
 },
 "nbformat": 4,
 "nbformat_minor": 5
}
