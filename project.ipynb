{
 "cells": [
  {
   "cell_type": "code",
   "execution_count": 1,
   "id": "40b76d0b",
   "metadata": {
    "_cell_guid": "b1076dfc-b9ad-4769-8c92-a6c4dae69d19",
    "_uuid": "8f2839f25d086af736a60e9eeb907d3b93b6e0e5",
    "execution": {
     "iopub.execute_input": "2023-11-11T02:30:16.864194Z",
     "iopub.status.busy": "2023-11-11T02:30:16.863759Z",
     "iopub.status.idle": "2023-11-11T02:30:17.837687Z",
     "shell.execute_reply": "2023-11-11T02:30:17.836284Z"
    },
    "papermill": {
     "duration": 0.98263,
     "end_time": "2023-11-11T02:30:17.840397",
     "exception": false,
     "start_time": "2023-11-11T02:30:16.857767",
     "status": "completed"
    },
    "tags": []
   },
   "outputs": [
    {
     "name": "stdout",
     "output_type": "stream",
     "text": [
      "/kaggle/input/genius-song-lyrics-with-language-information/song_lyrics.csv\n"
     ]
    }
   ],
   "source": [
    "import numpy as np # linear algebra\n",
    "import pandas as pd # data processing, CSV file I/O (e.g. pd.read_csv)\n",
    "\n",
    "import os\n",
    "for dirname, _, filenames in os.walk('/kaggle/input'):\n",
    "    for filename in filenames:\n",
    "        print(os.path.join(dirname, filename))"
   ]
  },
  {
   "cell_type": "markdown",
   "id": "96a0f5d7",
   "metadata": {
    "papermill": {
     "duration": 0.003181,
     "end_time": "2023-11-11T02:30:17.849417",
     "exception": false,
     "start_time": "2023-11-11T02:30:17.846236",
     "status": "completed"
    },
    "tags": []
   },
   "source": [
    "https://www.kaggle.com/datasets/carlosgdcj/genius-song-lyrics-with-language-information\n",
    "\n",
    "This dataset originates from the website 'Genius' where lyrics to songs are posted as well as community-submitted explanations to the meanings behind those lyrics. The dataset has song titles, the full string of lyrics, and a few other columns. However, the column of note this dataset has is a `tag` field which stores which genre each song belongs to. (i.e. rap, pop, rock, etc.)\n",
    "\n",
    "For my project, I would like to train an NLP AI to try to find a connection between lyrics and genre. I'd like to train it to classify the lyrics of a song into which genre they belong to. There is not necessarily any innate connection between these two concepts, which is why I especially want to see how the AI tackles this problem. Perhaps it will be able to find some connection that I am unable to see."
   ]
  },
  {
   "cell_type": "code",
   "execution_count": 2,
   "id": "fcde9712",
   "metadata": {
    "execution": {
     "iopub.execute_input": "2023-11-11T02:30:17.859059Z",
     "iopub.status.busy": "2023-11-11T02:30:17.858546Z",
     "iopub.status.idle": "2023-11-11T02:34:23.520101Z",
     "shell.execute_reply": "2023-11-11T02:34:23.518506Z"
    },
    "papermill": {
     "duration": 245.676788,
     "end_time": "2023-11-11T02:34:23.530370",
     "exception": false,
     "start_time": "2023-11-11T02:30:17.853582",
     "status": "completed"
    },
    "tags": []
   },
   "outputs": [
    {
     "data": {
      "text/html": [
       "<div>\n",
       "<style scoped>\n",
       "    .dataframe tbody tr th:only-of-type {\n",
       "        vertical-align: middle;\n",
       "    }\n",
       "\n",
       "    .dataframe tbody tr th {\n",
       "        vertical-align: top;\n",
       "    }\n",
       "\n",
       "    .dataframe thead th {\n",
       "        text-align: right;\n",
       "    }\n",
       "</style>\n",
       "<table border=\"1\" class=\"dataframe\">\n",
       "  <thead>\n",
       "    <tr style=\"text-align: right;\">\n",
       "      <th></th>\n",
       "      <th>title</th>\n",
       "      <th>tag</th>\n",
       "      <th>artist</th>\n",
       "      <th>year</th>\n",
       "      <th>views</th>\n",
       "      <th>features</th>\n",
       "      <th>lyrics</th>\n",
       "      <th>id</th>\n",
       "      <th>language_cld3</th>\n",
       "      <th>language_ft</th>\n",
       "      <th>language</th>\n",
       "    </tr>\n",
       "  </thead>\n",
       "  <tbody>\n",
       "    <tr>\n",
       "      <th>0</th>\n",
       "      <td>Killa Cam</td>\n",
       "      <td>rap</td>\n",
       "      <td>Cam'ron</td>\n",
       "      <td>2004</td>\n",
       "      <td>173166</td>\n",
       "      <td>{\"Cam\\\\'ron\",\"Opera Steve\"}</td>\n",
       "      <td>[Chorus: Opera Steve &amp; Cam'ron]\\nKilla Cam, Ki...</td>\n",
       "      <td>1</td>\n",
       "      <td>en</td>\n",
       "      <td>en</td>\n",
       "      <td>en</td>\n",
       "    </tr>\n",
       "    <tr>\n",
       "      <th>1</th>\n",
       "      <td>Can I Live</td>\n",
       "      <td>rap</td>\n",
       "      <td>JAY-Z</td>\n",
       "      <td>1996</td>\n",
       "      <td>468624</td>\n",
       "      <td>{}</td>\n",
       "      <td>[Produced by Irv Gotti]\\n\\n[Intro]\\nYeah, hah,...</td>\n",
       "      <td>3</td>\n",
       "      <td>en</td>\n",
       "      <td>en</td>\n",
       "      <td>en</td>\n",
       "    </tr>\n",
       "    <tr>\n",
       "      <th>2</th>\n",
       "      <td>Forgive Me Father</td>\n",
       "      <td>rap</td>\n",
       "      <td>Fabolous</td>\n",
       "      <td>2003</td>\n",
       "      <td>4743</td>\n",
       "      <td>{}</td>\n",
       "      <td>Maybe cause I'm eatin\\nAnd these bastards fien...</td>\n",
       "      <td>4</td>\n",
       "      <td>en</td>\n",
       "      <td>en</td>\n",
       "      <td>en</td>\n",
       "    </tr>\n",
       "    <tr>\n",
       "      <th>3</th>\n",
       "      <td>Down and Out</td>\n",
       "      <td>rap</td>\n",
       "      <td>Cam'ron</td>\n",
       "      <td>2004</td>\n",
       "      <td>144404</td>\n",
       "      <td>{\"Cam\\\\'ron\",\"Kanye West\",\"Syleena Johnson\"}</td>\n",
       "      <td>[Produced by Kanye West and Brian Miller]\\n\\n[...</td>\n",
       "      <td>5</td>\n",
       "      <td>en</td>\n",
       "      <td>en</td>\n",
       "      <td>en</td>\n",
       "    </tr>\n",
       "    <tr>\n",
       "      <th>4</th>\n",
       "      <td>Fly In</td>\n",
       "      <td>rap</td>\n",
       "      <td>Lil Wayne</td>\n",
       "      <td>2005</td>\n",
       "      <td>78271</td>\n",
       "      <td>{}</td>\n",
       "      <td>[Intro]\\nSo they ask me\\n\"Young boy\\nWhat you ...</td>\n",
       "      <td>6</td>\n",
       "      <td>en</td>\n",
       "      <td>en</td>\n",
       "      <td>en</td>\n",
       "    </tr>\n",
       "  </tbody>\n",
       "</table>\n",
       "</div>"
      ],
      "text/plain": [
       "               title  tag     artist  year   views  \\\n",
       "0          Killa Cam  rap    Cam'ron  2004  173166   \n",
       "1         Can I Live  rap      JAY-Z  1996  468624   \n",
       "2  Forgive Me Father  rap   Fabolous  2003    4743   \n",
       "3       Down and Out  rap    Cam'ron  2004  144404   \n",
       "4             Fly In  rap  Lil Wayne  2005   78271   \n",
       "\n",
       "                                       features  \\\n",
       "0                   {\"Cam\\\\'ron\",\"Opera Steve\"}   \n",
       "1                                            {}   \n",
       "2                                            {}   \n",
       "3  {\"Cam\\\\'ron\",\"Kanye West\",\"Syleena Johnson\"}   \n",
       "4                                            {}   \n",
       "\n",
       "                                              lyrics  id language_cld3  \\\n",
       "0  [Chorus: Opera Steve & Cam'ron]\\nKilla Cam, Ki...   1            en   \n",
       "1  [Produced by Irv Gotti]\\n\\n[Intro]\\nYeah, hah,...   3            en   \n",
       "2  Maybe cause I'm eatin\\nAnd these bastards fien...   4            en   \n",
       "3  [Produced by Kanye West and Brian Miller]\\n\\n[...   5            en   \n",
       "4  [Intro]\\nSo they ask me\\n\"Young boy\\nWhat you ...   6            en   \n",
       "\n",
       "  language_ft language  \n",
       "0          en       en  \n",
       "1          en       en  \n",
       "2          en       en  \n",
       "3          en       en  \n",
       "4          en       en  "
      ]
     },
     "execution_count": 2,
     "metadata": {},
     "output_type": "execute_result"
    }
   ],
   "source": [
    "lyric_database = pd.read_csv(\"/kaggle/input/genius-song-lyrics-with-language-information/song_lyrics.csv\")\n",
    "lyric_database.head()"
   ]
  },
  {
   "cell_type": "markdown",
   "id": "dcf659a7",
   "metadata": {
    "papermill": {
     "duration": 0.003345,
     "end_time": "2023-11-11T02:34:23.537448",
     "exception": false,
     "start_time": "2023-11-11T02:34:23.534103",
     "status": "completed"
    },
    "tags": []
   },
   "source": [
    "This dataset has a few problems that need to be addressed before using it for this project. Firstly, this dataset has lyrics from all different languages. For the purpose of this project, I'm going to limit the scope to just English songs. There may be a deeper correlation that can be made by using all languages, but for readability I chose to limit it to English. This can be easily done by filtering out songs using the `language` column restricting it to only 'en'.\n",
    "\n",
    "Some of the data entries lack a tag or lack substantial lyrics which would break or confuse the AI so those will also be removed from the database. \n",
    "\n",
    "Additionally, the lyrics of a song on Genius are split up by verses and choruses and other musical notations separated from the lyrics with brackets. For example, a song can have the line `[Verse 1: Drake]`that follows before a verse sung by Drake. For the purposes of this project, those lines will remain in the lyrics. They aren't technically lyrics, but the AI can notice patterns with artists and verse/chorus/introduction setups to help classify which genre the song is in.\n",
    "\n",
    "Finally, Genius allows users to upload lyrics for things that aren't songs as well such as scripts or poems. These are all tagged as 'misc,' but some songs are also tagged as misc. For the sake of simplicity, I will be culling all lyrics tagged as misc from the database even if they are songs."
   ]
  },
  {
   "cell_type": "code",
   "execution_count": 3,
   "id": "f1db7c0a",
   "metadata": {
    "execution": {
     "iopub.execute_input": "2023-11-11T02:34:23.547257Z",
     "iopub.status.busy": "2023-11-11T02:34:23.546738Z",
     "iopub.status.idle": "2023-11-11T02:34:30.872595Z",
     "shell.execute_reply": "2023-11-11T02:34:30.871182Z"
    },
    "papermill": {
     "duration": 7.334608,
     "end_time": "2023-11-11T02:34:30.875593",
     "exception": false,
     "start_time": "2023-11-11T02:34:23.540985",
     "status": "completed"
    },
    "tags": []
   },
   "outputs": [],
   "source": [
    "db = (\n",
    "    lyric_database\n",
    "    .loc[lyric_database[\"language\"] == \"en\"]\n",
    "    .loc[lyric_database[\"tag\"] != \"misc\"]\n",
    "    .loc[lyric_database[\"tag\"] != \"\"]\n",
    "    .loc[lyric_database[\"tag\"] != None]\n",
    "    .loc[lyric_database[\"lyrics\"] != None]\n",
    "    .loc[lyric_database[\"lyrics\"] != \"\"]\n",
    "    .loc[lyric_database[\"lyrics\"] != \"[Instrumental]\"] #some songs without lyrics will squeeze\n",
    "                                                       #their way onto the website for no\n",
    "                                                       # discernable reason\n",
    ")"
   ]
  },
  {
   "cell_type": "markdown",
   "id": "ba03940b",
   "metadata": {
    "papermill": {
     "duration": 0.00351,
     "end_time": "2023-11-11T02:34:30.883282",
     "exception": false,
     "start_time": "2023-11-11T02:34:30.879772",
     "status": "completed"
    },
    "tags": []
   },
   "source": [
    "This dataset has several columns that can be used for all sorts of implementation. For the sake of this project only the `lyrics`, `tag`, and `id` columns are of interest to the AI, and `title` and `artist` help *us* read and understand the data.\n",
    "\n",
    "`id` is how we iterate through each song, and `title` and `artist` is how we display the name of the song found by the id.\n",
    "\n",
    "`lyrics` is our text input and `tag` is our classification output. We need these to train the AI.\n",
    "\n",
    "The `language` column is extraneous now that we have filtered out any songs that are not in english."
   ]
  },
  {
   "cell_type": "code",
   "execution_count": 4,
   "id": "149a02c3",
   "metadata": {
    "execution": {
     "iopub.execute_input": "2023-11-11T02:34:30.892424Z",
     "iopub.status.busy": "2023-11-11T02:34:30.892027Z",
     "iopub.status.idle": "2023-11-11T02:34:31.228978Z",
     "shell.execute_reply": "2023-11-11T02:34:31.227254Z"
    },
    "papermill": {
     "duration": 0.344724,
     "end_time": "2023-11-11T02:34:31.231677",
     "exception": false,
     "start_time": "2023-11-11T02:34:30.886953",
     "status": "completed"
    },
    "tags": []
   },
   "outputs": [
    {
     "data": {
      "text/html": [
       "<div>\n",
       "<style scoped>\n",
       "    .dataframe tbody tr th:only-of-type {\n",
       "        vertical-align: middle;\n",
       "    }\n",
       "\n",
       "    .dataframe tbody tr th {\n",
       "        vertical-align: top;\n",
       "    }\n",
       "\n",
       "    .dataframe thead th {\n",
       "        text-align: right;\n",
       "    }\n",
       "</style>\n",
       "<table border=\"1\" class=\"dataframe\">\n",
       "  <thead>\n",
       "    <tr style=\"text-align: right;\">\n",
       "      <th></th>\n",
       "      <th>id</th>\n",
       "      <th>title</th>\n",
       "      <th>artist</th>\n",
       "      <th>lyrics</th>\n",
       "      <th>tag</th>\n",
       "    </tr>\n",
       "  </thead>\n",
       "  <tbody>\n",
       "    <tr>\n",
       "      <th>0</th>\n",
       "      <td>1</td>\n",
       "      <td>Killa Cam</td>\n",
       "      <td>Cam'ron</td>\n",
       "      <td>[Chorus: Opera Steve &amp; Cam'ron]\\nKilla Cam, Ki...</td>\n",
       "      <td>rap</td>\n",
       "    </tr>\n",
       "    <tr>\n",
       "      <th>1</th>\n",
       "      <td>3</td>\n",
       "      <td>Can I Live</td>\n",
       "      <td>JAY-Z</td>\n",
       "      <td>[Produced by Irv Gotti]\\n\\n[Intro]\\nYeah, hah,...</td>\n",
       "      <td>rap</td>\n",
       "    </tr>\n",
       "    <tr>\n",
       "      <th>2</th>\n",
       "      <td>4</td>\n",
       "      <td>Forgive Me Father</td>\n",
       "      <td>Fabolous</td>\n",
       "      <td>Maybe cause I'm eatin\\nAnd these bastards fien...</td>\n",
       "      <td>rap</td>\n",
       "    </tr>\n",
       "    <tr>\n",
       "      <th>3</th>\n",
       "      <td>5</td>\n",
       "      <td>Down and Out</td>\n",
       "      <td>Cam'ron</td>\n",
       "      <td>[Produced by Kanye West and Brian Miller]\\n\\n[...</td>\n",
       "      <td>rap</td>\n",
       "    </tr>\n",
       "    <tr>\n",
       "      <th>4</th>\n",
       "      <td>6</td>\n",
       "      <td>Fly In</td>\n",
       "      <td>Lil Wayne</td>\n",
       "      <td>[Intro]\\nSo they ask me\\n\"Young boy\\nWhat you ...</td>\n",
       "      <td>rap</td>\n",
       "    </tr>\n",
       "  </tbody>\n",
       "</table>\n",
       "</div>"
      ],
      "text/plain": [
       "   id              title     artist  \\\n",
       "0   1          Killa Cam    Cam'ron   \n",
       "1   3         Can I Live      JAY-Z   \n",
       "2   4  Forgive Me Father   Fabolous   \n",
       "3   5       Down and Out    Cam'ron   \n",
       "4   6             Fly In  Lil Wayne   \n",
       "\n",
       "                                              lyrics  tag  \n",
       "0  [Chorus: Opera Steve & Cam'ron]\\nKilla Cam, Ki...  rap  \n",
       "1  [Produced by Irv Gotti]\\n\\n[Intro]\\nYeah, hah,...  rap  \n",
       "2  Maybe cause I'm eatin\\nAnd these bastards fien...  rap  \n",
       "3  [Produced by Kanye West and Brian Miller]\\n\\n[...  rap  \n",
       "4  [Intro]\\nSo they ask me\\n\"Young boy\\nWhat you ...  rap  "
      ]
     },
     "execution_count": 4,
     "metadata": {},
     "output_type": "execute_result"
    }
   ],
   "source": [
    "columns_of_interest = ['id', 'title','artist', 'lyrics', 'tag']\n",
    "db = db[columns_of_interest]\n",
    "db.head()"
   ]
  },
  {
   "cell_type": "markdown",
   "id": "dc566634",
   "metadata": {
    "papermill": {
     "duration": 0.003818,
     "end_time": "2023-11-11T02:34:31.240102",
     "exception": false,
     "start_time": "2023-11-11T02:34:31.236284",
     "status": "completed"
    },
    "tags": []
   },
   "source": [
    "Once we've culled all unnecessary data and extraneous columns from the database we are left with a cleaned up set of data to feed to the AI model. However, there are still foreign symbols and other quirks present in the data that will confuse the AI. \n",
    "\n",
    "Most notably, each of the string values has many many `\\n`s signifying new lines in the lyrics page. We want to keep these new-line symbols for the AI to learn from, but they are not separated by spaces and the AI will consider anything not separated by spaces as one word. Consider this song for example:"
   ]
  },
  {
   "cell_type": "code",
   "execution_count": 5,
   "id": "c0d9e90e",
   "metadata": {
    "execution": {
     "iopub.execute_input": "2023-11-11T02:34:31.250611Z",
     "iopub.status.busy": "2023-11-11T02:34:31.249762Z",
     "iopub.status.idle": "2023-11-11T02:34:31.261352Z",
     "shell.execute_reply": "2023-11-11T02:34:31.259515Z"
    },
    "papermill": {
     "duration": 0.020077,
     "end_time": "2023-11-11T02:34:31.264246",
     "exception": false,
     "start_time": "2023-11-11T02:34:31.244169",
     "status": "completed"
    },
    "tags": []
   },
   "outputs": [
    {
     "name": "stdout",
     "output_type": "stream",
     "text": [
      "[[154314 'Do I Wanna Know?' 'Arctic Monkeys'\n",
      "  \"[Verse 1]\\nHave you got colour in your cheeks?\\nDo you ever get that fear that you can't shift the type\\nThat sticks around like summat in your teeth?\\nAre there some aces up your sleeve?\\nHave you no idea that you're in deep?\\nI've dreamt about you nearly every night this week\\nHow many secrets can you keep?\\n'Cause there's this tune I found\\nThat makes me think of you somehow an' I play it on repeat\\nUntil I fall asleep, spillin' drinks on my settee\\n\\n[Pre-Chorus]\\n(Do I wanna know?) If this feelin' flows both ways?\\n(Sad to see you go) Was sorta hopin' that you'd stay\\n(Baby, we both know) That the nights were mainly made\\nFor sayin' things that you can't say tomorrow day\\n\\n[Chorus]\\nCrawlin' back to you\\nEver thought of callin' when\\nYou've had a few?\\n'Cause I always do\\nMaybe I'm too\\nBusy bein' yours\\nTo fall for somebody new\\nNow, I've thought it through\\nCrawlin' back to you\\n[Verse 2]\\nSo have you got the guts?\\nBeen wonderin' if your heart's still open\\nAnd if so, I wanna know what time it shuts\\nSimmer down an' pucker up, I'm sorry to interrupt\\nIt's just I'm constantly on the cusp of tryin' to kiss you\\nI don't know if you feel the same as I do\\nBut we could be together if you wanted to\\n\\n[Pre-Chorus]\\n(Do I wanna know?) If this feelin' flows both ways?\\n(Sad to see you go) Was sorta hopin' that you'd stay\\n(Baby, we both know) That the nights were mainly made\\nFor sayin' things that you can't say tomorrow day\\n\\n[Chorus]\\nCrawlin' back to you (Crawlin' back to you)\\nEver thought of callin' when\\nYou've had a few? (Had a few)\\n'Cause I always do ('Cause I always do)\\nMaybe I'm too (Maybe I'm too busy)\\nBusy bein' yours (Bein' yours)\\nTo fall for somebody new\\nNow, I've thought it through\\nCrawlin' back to you\\n[Outro]\\n(Do I wanna know?) If this feelin' flows both ways?\\n(Sad to see you go) Was sorta hopin' that you’d stay\\n(Baby, we both know) That the nights were mainly made\\nFor sayin' things that you can't say tomorrow day\\n(Do I wanna know?) Too busy bein' yours to fall\\n(Sad to see you go) Ever thought of callin', darlin'?\\n(Do I wanna know?) Do you want me crawlin' back to you?\"\n",
      "  'rock']]\n"
     ]
    }
   ],
   "source": [
    "print(db.loc[db[\"id\"] == 154314].values)"
   ]
  },
  {
   "cell_type": "markdown",
   "id": "9aeca3c2",
   "metadata": {
    "papermill": {
     "duration": 0.003831,
     "end_time": "2023-11-11T02:34:31.272655",
     "exception": false,
     "start_time": "2023-11-11T02:34:31.268824",
     "status": "completed"
    },
    "tags": []
   },
   "source": [
    "In this example you can see there are many pieces of the string that are *supposed* to be separate lines, but because of the special character \\n being present and not being buffered by spaces words like \"`settee\\n\\n[Pre-Chorus]\\n(Do`\" are made. This will completely butcher a one-hot matrix and confuse our AI. To fix this, we can separate `\\n` by whitespaces to separate it from the rest of the words. \n",
    "\n",
    "By just doing this we would separate our word example into \"`settee \\n \\n [Pre-Chorus] \\n (Do`.\" This still leaves words like \"`(Do`\" and \"`[Verse`\" present in our example. To solve this, boundary symbols like parentheses and brackets need to be separated by spaces too. By implementing this fix we can keep the musical notation and line separation for the AI to learn from without breaking the AI completely.\n",
    "\n",
    "To do this adjustement we will be using a regular expression library `re`. Here is what our lyrics will look like after we split these character up with whitespace:"
   ]
  },
  {
   "cell_type": "code",
   "execution_count": 6,
   "id": "8054903c",
   "metadata": {
    "execution": {
     "iopub.execute_input": "2023-11-11T02:34:31.282802Z",
     "iopub.status.busy": "2023-11-11T02:34:31.282448Z",
     "iopub.status.idle": "2023-11-11T02:34:31.295056Z",
     "shell.execute_reply": "2023-11-11T02:34:31.292952Z"
    },
    "papermill": {
     "duration": 0.02112,
     "end_time": "2023-11-11T02:34:31.297865",
     "exception": false,
     "start_time": "2023-11-11T02:34:31.276745",
     "status": "completed"
    },
    "tags": []
   },
   "outputs": [
    {
     "name": "stdout",
     "output_type": "stream",
     "text": [
      "\"[ Verse 1 ] \\n Have you got colour in your cheeks? \\n Do you ever get that fear that you can't shift the type \\n That sticks around like summat in your teeth? \\n Are there some aces up your sleeve? \\n Have you no idea that you're in deep? \\n I've dreamt about you nearly every night this week \\n How many secrets can you keep? \\n 'Cause there's this tune I found \\n That makes me think of you somehow an' I play it on repeat \\n Until I fall asleep, spillin' drinks on my settee \\n \\n [ Pre-Chorus ] \\n ( Do I wanna know? )  If this feelin' flows both ways? \\n ( Sad to see you go )  Was sorta hopin' that you'd stay \\n ( Baby, we both know )  That the nights were mainly made \\n For sayin' things that you can't say tomorrow day \\n \\n [ Chorus ] \\n Crawlin' back to you \\n Ever thought of callin' when \\n You've had a few? \\n 'Cause I always do \\n Maybe I'm too \\n Busy bein' yours \\n To fall for somebody new \\n Now, I've thought it through \\n Crawlin' back to you \\n [ Verse 2 ] \\n So have you got the guts? \\n Been wonderin' if your heart's still open \\n And if so, I wanna know what time it shuts \\n Simmer down an' pucker up, I'm sorry to interrupt \\n It's just I'm constantly on the cusp of tryin' to kiss you \\n I don't know if you feel the same as I do \\n But we could be together if you wanted to \\n \\n [ Pre-Chorus ] \\n ( Do I wanna know? )  If this feelin' flows both ways? \\n ( Sad to see you go )  Was sorta hopin' that you'd stay \\n ( Baby, we both know )  That the nights were mainly made \\n For sayin' things that you can't say tomorrow day \\n \\n [ Chorus ] \\n Crawlin' back to you  ( Crawlin' back to you ) \\n Ever thought of callin' when \\n You've had a few?  ( Had a few ) \\n 'Cause I always do  ( 'Cause I always do ) \\n Maybe I'm too  ( Maybe I'm too busy ) \\n Busy bein' yours  ( Bein' yours ) \\n To fall for somebody new \\n Now, I've thought it through \\n Crawlin' back to you \\n [ Outro ] \\n ( Do I wanna know? )  If this feelin' flows both ways? \\n ( Sad to see you go )  Was sorta hopin' that you’d stay \\n ( Baby, we both know )  That the nights were mainly made \\n For sayin' things that you can't say tomorrow day \\n ( Do I wanna know? )  Too busy bein' yours to fall \\n ( Sad to see you go )  Ever thought of callin', darlin'? \\n ( Do I wanna know? )  Do you want me crawlin' back to you?\"\n"
     ]
    }
   ],
   "source": [
    "import re\n",
    "lyrics = db.loc[db[\"id\"] == 154314].values[0][3]\n",
    "\n",
    "parts = re.split(r\"([\\n\\[\\]\\(\\)])\", lyrics)\n",
    "#print(repr(parts))\n",
    "\n",
    "whitespace_lyrics = \" \".join(filter(None, parts))\n",
    "print(repr(whitespace_lyrics))"
   ]
  },
  {
   "cell_type": "markdown",
   "id": "08e1743f",
   "metadata": {
    "papermill": {
     "duration": 0.004253,
     "end_time": "2023-11-11T02:34:31.307037",
     "exception": false,
     "start_time": "2023-11-11T02:34:31.302784",
     "status": "completed"
    },
    "tags": []
   },
   "source": [
    "Much better! Now you can see our original problem \"word\" of \"`settee\\n\\n[Pre-Chorus]\\n(Do`\" has been properly split into \"`sette \\n \\n [ Pre-Chorus ] ( Do`\". Our data still is not perfect, as you can see there are puncuation symbols like `?` and `,`  and any punctuated word will be considered a separate entry by the AI. So `Know` and `Know?` and `Know,` are all considered unique words. This can be solved by removing the punctuation from our lyrics using `re`. "
   ]
  },
  {
   "cell_type": "code",
   "execution_count": 7,
   "id": "52c6ebcc",
   "metadata": {
    "execution": {
     "iopub.execute_input": "2023-11-11T02:34:31.318022Z",
     "iopub.status.busy": "2023-11-11T02:34:31.317645Z",
     "iopub.status.idle": "2023-11-11T02:34:31.325656Z",
     "shell.execute_reply": "2023-11-11T02:34:31.323970Z"
    },
    "papermill": {
     "duration": 0.016803,
     "end_time": "2023-11-11T02:34:31.328448",
     "exception": false,
     "start_time": "2023-11-11T02:34:31.311645",
     "status": "completed"
    },
    "tags": []
   },
   "outputs": [
    {
     "name": "stdout",
     "output_type": "stream",
     "text": [
      "\"[ Verse 1 ] \\n Have you got colour in your cheeks \\n Do you ever get that fear that you can't shift the type \\n That sticks around like summat in your teeth \\n Are there some aces up your sleeve \\n Have you no idea that you're in deep \\n I've dreamt about you nearly every night this week \\n How many secrets can you keep \\n 'Cause there's this tune I found \\n That makes me think of you somehow an' I play it on repeat \\n Until I fall asleep spillin' drinks on my settee \\n \\n [ Pre-Chorus ] \\n ( Do I wanna know )  If this feelin' flows both ways \\n ( Sad to see you go )  Was sorta hopin' that you'd stay \\n ( Baby we both know )  That the nights were mainly made \\n For sayin' things that you can't say tomorrow day \\n \\n [ Chorus ] \\n Crawlin' back to you \\n Ever thought of callin' when \\n You've had a few \\n 'Cause I always do \\n Maybe I'm too \\n Busy bein' yours \\n To fall for somebody new \\n Now I've thought it through \\n Crawlin' back to you \\n [ Verse 2 ] \\n So have you got the guts \\n Been wonderin' if your heart's still open \\n And if so I wanna know what time it shuts \\n Simmer down an' pucker up I'm sorry to interrupt \\n It's just I'm constantly on the cusp of tryin' to kiss you \\n I don't know if you feel the same as I do \\n But we could be together if you wanted to \\n \\n [ Pre-Chorus ] \\n ( Do I wanna know )  If this feelin' flows both ways \\n ( Sad to see you go )  Was sorta hopin' that you'd stay \\n ( Baby we both know )  That the nights were mainly made \\n For sayin' things that you can't say tomorrow day \\n \\n [ Chorus ] \\n Crawlin' back to you  ( Crawlin' back to you ) \\n Ever thought of callin' when \\n You've had a few  ( Had a few ) \\n 'Cause I always do  ( 'Cause I always do ) \\n Maybe I'm too  ( Maybe I'm too busy ) \\n Busy bein' yours  ( Bein' yours ) \\n To fall for somebody new \\n Now I've thought it through \\n Crawlin' back to you \\n [ Outro ] \\n ( Do I wanna know )  If this feelin' flows both ways \\n ( Sad to see you go )  Was sorta hopin' that you’d stay \\n ( Baby we both know )  That the nights were mainly made \\n For sayin' things that you can't say tomorrow day \\n ( Do I wanna know )  Too busy bein' yours to fall \\n ( Sad to see you go )  Ever thought of callin' darlin' \\n ( Do I wanna know )  Do you want me crawlin' back to you\"\n"
     ]
    }
   ],
   "source": [
    "unpunctuated = re.sub(r\"([?\\.\\,\\!])\",'',whitespace_lyrics)\n",
    "print(repr(unpunctuated))"
   ]
  },
  {
   "cell_type": "markdown",
   "id": "586adf0e",
   "metadata": {
    "papermill": {
     "duration": 0.00427,
     "end_time": "2023-11-11T02:34:31.337830",
     "exception": false,
     "start_time": "2023-11-11T02:34:31.333560",
     "status": "completed"
    },
    "tags": []
   },
   "source": [
    "Finally, to get our data the most AI friendly we should fix slang, regulate capital letters, and lemmatize all words in each song. This gives our AI the highest chance of success and also allows us to more accurately analyze our dataset.\n",
    "\n",
    "Some slang we can't fix or predict, but words that end in an apostrophe can be replaced with a 'g', like `Crawlin'` to `Crawling` in our example above. Additionally, `'Cause` can be changed to `Because`. That should affect a significant amount of songs, but it will be impossible to account for all slang. This is good enough for our purposes.\n",
    "\n",
    "To remove capital letters we can just use python's built in `.lower()` method. Very simple.\n",
    "\n",
    "To lemmatize the words in our dataset I will be using "
   ]
  },
  {
   "cell_type": "raw",
   "id": "dd92c73f",
   "metadata": {
    "execution": {
     "iopub.execute_input": "2023-11-11T02:18:26.704471Z",
     "iopub.status.busy": "2023-11-11T02:18:26.704034Z",
     "iopub.status.idle": "2023-11-11T02:18:26.862197Z",
     "shell.execute_reply": "2023-11-11T02:18:26.860432Z",
     "shell.execute_reply.started": "2023-11-11T02:18:26.704441Z"
    },
    "papermill": {
     "duration": 0.004117,
     "end_time": "2023-11-11T02:34:31.346435",
     "exception": false,
     "start_time": "2023-11-11T02:34:31.342318",
     "status": "completed"
    },
    "tags": []
   },
   "source": [
    "import nltk\n",
    "from nltk.stem import WordNetLemmatizer\n",
    "nltk.download(\"wordnet\", \"/nltk_data/\")\n",
    "nltk.download(\"wordnet31\")\n",
    "nltk.download(\"omw-1.4\")\n",
    "\n",
    "# Initialize wordnet lemmatizer\n",
    "lmz = WordNetLemmatizer()\n",
    "\n",
    "unpunctuated.lower()\n",
    "lyric_list = unpunctuated.split()\n",
    "#print(lyric_list)\n",
    "for word in lyric_list:\n",
    "    print(lmz.lemmatize(word))\n",
    "\n",
    "print(unpunctuated)    "
   ]
  },
  {
   "cell_type": "code",
   "execution_count": 8,
   "id": "1dd64a7b",
   "metadata": {
    "execution": {
     "iopub.execute_input": "2023-11-11T02:34:31.357263Z",
     "iopub.status.busy": "2023-11-11T02:34:31.356801Z",
     "iopub.status.idle": "2023-11-11T02:34:31.563617Z",
     "shell.execute_reply": "2023-11-11T02:34:31.561999Z"
    },
    "papermill": {
     "duration": 0.215399,
     "end_time": "2023-11-11T02:34:31.566238",
     "exception": false,
     "start_time": "2023-11-11T02:34:31.350839",
     "status": "completed"
    },
    "tags": []
   },
   "outputs": [],
   "source": [
    "#code to find a song by its title and artist\n",
    "for item in (db.loc[db[\"title\"] == \"\"].values):\n",
    "    for x in item:\n",
    "        print(f\"{x}\\n\")"
   ]
  },
  {
   "cell_type": "code",
   "execution_count": 9,
   "id": "bafe9700",
   "metadata": {
    "execution": {
     "iopub.execute_input": "2023-11-11T02:34:31.577630Z",
     "iopub.status.busy": "2023-11-11T02:34:31.577209Z",
     "iopub.status.idle": "2023-11-11T02:34:31.998430Z",
     "shell.execute_reply": "2023-11-11T02:34:31.997414Z"
    },
    "papermill": {
     "duration": 0.430071,
     "end_time": "2023-11-11T02:34:32.001209",
     "exception": false,
     "start_time": "2023-11-11T02:34:31.571138",
     "status": "completed"
    },
    "tags": []
   },
   "outputs": [
    {
     "data": {
      "text/html": [
       "<div>\n",
       "<style scoped>\n",
       "    .dataframe tbody tr th:only-of-type {\n",
       "        vertical-align: middle;\n",
       "    }\n",
       "\n",
       "    .dataframe tbody tr th {\n",
       "        vertical-align: top;\n",
       "    }\n",
       "\n",
       "    .dataframe thead th {\n",
       "        text-align: right;\n",
       "    }\n",
       "</style>\n",
       "<table border=\"1\" class=\"dataframe\">\n",
       "  <thead>\n",
       "    <tr style=\"text-align: right;\">\n",
       "      <th></th>\n",
       "      <th>id</th>\n",
       "      <th>title</th>\n",
       "      <th>artist</th>\n",
       "      <th>lyrics</th>\n",
       "      <th>tag</th>\n",
       "    </tr>\n",
       "  </thead>\n",
       "  <tbody>\n",
       "    <tr>\n",
       "      <th>0</th>\n",
       "      <td>1</td>\n",
       "      <td>Killa Cam</td>\n",
       "      <td>Cam'ron</td>\n",
       "      <td>[Chorus: Opera Steve &amp; Cam'ron]\\nKilla Cam, Ki...</td>\n",
       "      <td>rap</td>\n",
       "    </tr>\n",
       "    <tr>\n",
       "      <th>1</th>\n",
       "      <td>3</td>\n",
       "      <td>Can I Live</td>\n",
       "      <td>JAY-Z</td>\n",
       "      <td>[Produced by Irv Gotti]\\n\\n[Intro]\\nYeah, hah,...</td>\n",
       "      <td>rap</td>\n",
       "    </tr>\n",
       "    <tr>\n",
       "      <th>2</th>\n",
       "      <td>4</td>\n",
       "      <td>Forgive Me Father</td>\n",
       "      <td>Fabolous</td>\n",
       "      <td>Maybe cause I'm eatin\\nAnd these bastards fien...</td>\n",
       "      <td>rap</td>\n",
       "    </tr>\n",
       "    <tr>\n",
       "      <th>3</th>\n",
       "      <td>5</td>\n",
       "      <td>Down and Out</td>\n",
       "      <td>Cam'ron</td>\n",
       "      <td>[Produced by Kanye West and Brian Miller]\\n\\n[...</td>\n",
       "      <td>rap</td>\n",
       "    </tr>\n",
       "    <tr>\n",
       "      <th>4</th>\n",
       "      <td>6</td>\n",
       "      <td>Fly In</td>\n",
       "      <td>Lil Wayne</td>\n",
       "      <td>[Intro]\\nSo they ask me\\n\"Young boy\\nWhat you ...</td>\n",
       "      <td>rap</td>\n",
       "    </tr>\n",
       "    <tr>\n",
       "      <th>...</th>\n",
       "      <td>...</td>\n",
       "      <td>...</td>\n",
       "      <td>...</td>\n",
       "      <td>...</td>\n",
       "      <td>...</td>\n",
       "    </tr>\n",
       "    <tr>\n",
       "      <th>5134847</th>\n",
       "      <td>7882838</td>\n",
       "      <td>Everything Is Alright Now</td>\n",
       "      <td>Chuck Bernard</td>\n",
       "      <td>Everything is alright now\\nOh yes, baby\\nEvery...</td>\n",
       "      <td>pop</td>\n",
       "    </tr>\n",
       "    <tr>\n",
       "      <th>5134849</th>\n",
       "      <td>7882840</td>\n",
       "      <td>White Lies</td>\n",
       "      <td>ElementD</td>\n",
       "      <td>[Verse 1]\\nHalf truth and half you\\nDidn't we ...</td>\n",
       "      <td>pop</td>\n",
       "    </tr>\n",
       "    <tr>\n",
       "      <th>5134851</th>\n",
       "      <td>7882842</td>\n",
       "      <td>Ocean</td>\n",
       "      <td>Effemar</td>\n",
       "      <td>[Verse 1]\\nDance for me now\\nKeeping yourself ...</td>\n",
       "      <td>pop</td>\n",
       "    </tr>\n",
       "    <tr>\n",
       "      <th>5134853</th>\n",
       "      <td>7882845</td>\n",
       "      <td>Raise Our Hands</td>\n",
       "      <td>Culture Code, Pag &amp; Mylo</td>\n",
       "      <td>[Verse 1]\\nHere our purpose feels alive\\nWe ar...</td>\n",
       "      <td>pop</td>\n",
       "    </tr>\n",
       "    <tr>\n",
       "      <th>5134855</th>\n",
       "      <td>7882848</td>\n",
       "      <td>New Number</td>\n",
       "      <td>Alana Springsteen</td>\n",
       "      <td>[Verse 1]\\nYou need a new number, one that ain...</td>\n",
       "      <td>country</td>\n",
       "    </tr>\n",
       "  </tbody>\n",
       "</table>\n",
       "<p>3233212 rows × 5 columns</p>\n",
       "</div>"
      ],
      "text/plain": [
       "              id                      title                    artist  \\\n",
       "0              1                  Killa Cam                   Cam'ron   \n",
       "1              3                 Can I Live                     JAY-Z   \n",
       "2              4          Forgive Me Father                  Fabolous   \n",
       "3              5               Down and Out                   Cam'ron   \n",
       "4              6                     Fly In                 Lil Wayne   \n",
       "...          ...                        ...                       ...   \n",
       "5134847  7882838  Everything Is Alright Now             Chuck Bernard   \n",
       "5134849  7882840                 White Lies                  ElementD   \n",
       "5134851  7882842                      Ocean                   Effemar   \n",
       "5134853  7882845            Raise Our Hands  Culture Code, Pag & Mylo   \n",
       "5134855  7882848                 New Number         Alana Springsteen   \n",
       "\n",
       "                                                    lyrics      tag  \n",
       "0        [Chorus: Opera Steve & Cam'ron]\\nKilla Cam, Ki...      rap  \n",
       "1        [Produced by Irv Gotti]\\n\\n[Intro]\\nYeah, hah,...      rap  \n",
       "2        Maybe cause I'm eatin\\nAnd these bastards fien...      rap  \n",
       "3        [Produced by Kanye West and Brian Miller]\\n\\n[...      rap  \n",
       "4        [Intro]\\nSo they ask me\\n\"Young boy\\nWhat you ...      rap  \n",
       "...                                                    ...      ...  \n",
       "5134847  Everything is alright now\\nOh yes, baby\\nEvery...      pop  \n",
       "5134849  [Verse 1]\\nHalf truth and half you\\nDidn't we ...      pop  \n",
       "5134851  [Verse 1]\\nDance for me now\\nKeeping yourself ...      pop  \n",
       "5134853  [Verse 1]\\nHere our purpose feels alive\\nWe ar...      pop  \n",
       "5134855  [Verse 1]\\nYou need a new number, one that ain...  country  \n",
       "\n",
       "[3233212 rows x 5 columns]"
      ]
     },
     "execution_count": 9,
     "metadata": {},
     "output_type": "execute_result"
    }
   ],
   "source": [
    "db.sort_values(by=\"id\")\n",
    "#the IDs go all the way up to 7.8 million despite only having 5.1 million songs in the database"
   ]
  }
 ],
 "metadata": {
  "kernelspec": {
   "display_name": "Python 3",
   "language": "python",
   "name": "python3"
  },
  "language_info": {
   "codemirror_mode": {
    "name": "ipython",
    "version": 3
   },
   "file_extension": ".py",
   "mimetype": "text/x-python",
   "name": "python",
   "nbconvert_exporter": "python",
   "pygments_lexer": "ipython3",
   "version": "3.10.12"
  },
  "papermill": {
   "default_parameters": {},
   "duration": 261.675374,
   "end_time": "2023-11-11T02:34:34.628360",
   "environment_variables": {},
   "exception": null,
   "input_path": "__notebook__.ipynb",
   "output_path": "__notebook__.ipynb",
   "parameters": {},
   "start_time": "2023-11-11T02:30:12.952986",
   "version": "2.4.0"
  }
 },
 "nbformat": 4,
 "nbformat_minor": 5
}
